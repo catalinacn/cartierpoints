{
 "cells": [
  {
   "cell_type": "markdown",
   "id": "1105fd0c",
   "metadata": {},
   "source": [
    "Code to find the T1 Cartier points\n",
    "Contains the HW matrix also, if modified here make sure to modify the separate file\n",
    "Log for changes and updates:\n",
    "\n",
    "12/1/23\n",
    "- I am going over the code to check the state. Seems like I started to re-write from magma, but didn't finish\n",
    "- The code for HW seems good to go\n",
    "- Currently working on the Borrador notebook (DONE with # 1) \n",
    "- Now we need the need the code that takes the last one and computes all of the CPs\n",
    "\n",
    "24/1/23\n",
    "- T1_cartier_points_over_ext_Fp seems good. Now we need to work on All_T1_points_complete_by_degree\n",
    "- THIS IS WORKING "
   ]
  },
  {
   "cell_type": "code",
   "execution_count": null,
   "id": "ba5f1899",
   "metadata": {},
   "outputs": [],
   "source": [
    "def hasse_witt_matrix_g3(tup): #The input is a 15-tuple with the coefficients of the quartic\n",
    "    SS.<X,Y,Z,W>=PolynomialRing(K,4)\n",
    "       \n",
    "    mon_degree_4xyz=[X^4,X^3*Y,X^3*Z,X^2*Y^2,X^2*Y*Z,X^2*Z^2,X*Y^3,X*Y^2*Z,X*Y*Z^2,X*Z^3,Y^4,\n",
    "                        Y^3*Z,Y^2*Z^2,Y*Z^3,Z^4]\n",
    "    G=sum([tup[i]*mon_degree_4xyz[i] for i in range(15)])\n",
    "    HW_expon=[[2*p-2,p-1,p-1,p-1],[p-2,2*p-1,p-1,p-1],[p-2,p-1,2*p-1,p-1],\n",
    "              [2*p-1,p-2,p-1,p-1],[p-1,2*p-2,p-1,p-1],[p-1,p-2,2*p-1,p-1],\n",
    "              [2*p-1,p-1,p-2,p-1],[p-1,2*p-1,p-2,p-1],[p-1,p-1,2*p-2,p-1]];\n",
    " \n",
    "    HW_mono=[X^(E[0])*Y^(E[1])*Z^(E[2])*W^(E[3]) for E in HW_expon]\n",
    "    \n",
    "\n",
    "    H=(W*G)^(p-1);\n",
    "    HW_coeff=[H.monomial_coefficient(m) for m in HW_mono]\n",
    "    HW_matrix=matrix(3,3,HW_coeff)\n",
    "    \n",
    "    return HW_matrix"
   ]
  },
  {
   "cell_type": "code",
   "execution_count": 4,
   "id": "8ca6c3b9",
   "metadata": {},
   "outputs": [],
   "source": [
    "#1 (Checked on 12/1/22. Seems good)\n",
    "#This computes the T1 cartier points on a quartic given by tup, the tuple of the coefficients, over an extension of degree d of the base field\n",
    "\n",
    "def T1_cartier_points_over_ext_Fp(tup,d):\n",
    "    HW1=hasse_witt_matrix_g3(tup) ##uses hasse_witt_matrix_g3 which is in a separate file\n",
    "    S.<X,Y,Z>=PolynomialRing(K)\n",
    "    mon_degree_4xyz=[x^4,x^3*y,x^3*z,x^2*y^2,x^2*y*z,x^2*z^2,x*y^3,x*y^2*z,x*y*z^2,x*z^3,y^4,\n",
    "                        y^3*z,y^2*z^2,y*z^3,z^4]\n",
    "    quart=sum([tup[i]*mon_degree_4xyz[i] for i in range(15)])\n",
    "    polys=[quart]\n",
    "    \n",
    "    for row in HW1:\n",
    "        poly=row[0]*x+row[1]*y+row[2]*z ##Create the linear polynomials of\n",
    "        polys=polys + [poly]\n",
    "        \n",
    "    \n",
    "    Kd.<a>=GF(p^d)#Extension\n",
    "    Intersection=ProjectiveSpace(Kd,2).subscheme(polys)\n",
    "    CPs=[[P[0],P[1],P[2]] for P in Intersection.rational_points()]\n",
    "\n",
    "    return CPs\n",
    "\n",
    " \n",
    "    "
   ]
  },
  {
   "cell_type": "code",
   "execution_count": null,
   "id": "364f16b3",
   "metadata": {},
   "outputs": [],
   "source": [
    "##Reviewed last on 24/1/23, working\n",
    "def All_T1_points_complete_by_degree(tup):\n",
    "    T1_deg1=T1_cartier_points_over_ext_Fp(tup,1)\n",
    "    All_T1points_by_deg=[T1_deg1,[],[],[]] ##Find T1CP over base field\n",
    "    if len(T1_deg1)<4: ##If there are less 4 of them ,then we are done\n",
    "        #d=2\n",
    "        T1_deg2all=T1_cartier_points_over_ext_Fp(tup,2)\n",
    "        T1_deg2=[P for P in T1_deg2all if P not in T1_deg1]\n",
    "       # print(\"d2\",T1_deg2all,T1_deg2)\n",
    "        All_T1points_by_deg[1]=T1_deg2\n",
    "        if len(T1_deg2all)==0:\n",
    "            #d=4\n",
    "            T1_deg4all=T1_cartier_points_over_ext_Fp(tup,4)\n",
    "            T1_deg4=[P for P in T1_deg4all if P not in T1_deg2]            \n",
    "            All_T1points_by_deg[3]=T1_deg4\n",
    "            \n",
    "        #d=3\n",
    "        if len(T1_deg1)<2:\n",
    "            T1_deg3all=T1_cartier_points_over_ext_Fp(tup,3)\n",
    "            T1_deg3=[P for P in T1_deg3all if P not in T1_deg1]\n",
    "            All_T1points_by_deg[2]=T1_deg3\n",
    "        \n",
    "                \n",
    "    Sum_and_degree=[len(plist) for plist in All_T1points_by_deg]\n",
    "    return [All_T1points_by_deg, Sum_and_degree]\n",
    "    \n",
    "    \n"
   ]
  }
 ],
 "metadata": {
  "kernelspec": {
   "display_name": "SageMath 9.6",
   "language": "sage",
   "name": "sagemath-9.6"
  },
  "language_info": {
   "codemirror_mode": {
    "name": "ipython",
    "version": 3
   },
   "file_extension": ".py",
   "mimetype": "text/x-python",
   "name": "python",
   "nbconvert_exporter": "python",
   "pygments_lexer": "ipython3",
   "version": "3.10.3"
  }
 },
 "nbformat": 4,
 "nbformat_minor": 5
}
