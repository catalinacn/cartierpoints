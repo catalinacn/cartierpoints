{
 "cells": [
  {
   "cell_type": "code",
   "execution_count": null,
   "id": "9c8002f4",
   "metadata": {},
   "outputs": [],
   "source": [
    "##HW matrix\n",
    "#At least p and K must be defined \n",
    "\n",
    "#This is an example of the the set up we need, at l#\n",
    "#p=5\n",
    "#r=1\n",
    "#q=p^r\n",
    "#K=GF(q)\n",
    "#The following is the function\n",
    "\n",
    "def hasse_witt_matrix_g3(tup): #The input is a 15-tuple with the coefficients of the quartic\n",
    "    SS.<X,Y,Z,W>=PolynomialRing(K,4)\n",
    "       \n",
    "    mon_degree_4xyz=[X^4,X^3*Y,X^3*Z,X^2*Y^2,X^2*Y*Z,X^2*Z^2,X*Y^3,X*Y^2*Z,X*Y*Z^2,X*Z^3,Y^4,\n",
    "                        Y^3*Z,Y^2*Z^2,Y*Z^3,Z^4]\n",
    "    G=sum([tup[i]*mon_degree_4xyz[i] for i in range(15)])\n",
    "    HW_expon=[[2*p-2,p-1,p-1,p-1],[p-2,2*p-1,p-1,p-1],[p-2,p-1,2*p-1,p-1],\n",
    "              [2*p-1,p-2,p-1,p-1],[p-1,2*p-2,p-1,p-1],[p-1,p-2,2*p-1,p-1],\n",
    "              [2*p-1,p-1,p-2,p-1],[p-1,2*p-1,p-2,p-1],[p-1,p-1,2*p-2,p-1]];\n",
    " \n",
    "    HW_mono=[X^(E[0])*Y^(E[1])*Z^(E[2])*W^(E[3]) for E in HW_expon]\n",
    "    \n",
    "\n",
    "    H=(W*G)^(p-1);\n",
    "    HW_coeff=[H.monomial_coefficient(m) for m in HW_mono]\n",
    "    HW_matrix=matrix(3,3,HW_coeff)\n",
    "    \n",
    "    return HW_matrix"
   ]
  }
 ],
 "metadata": {
  "kernelspec": {
   "display_name": "SageMath 9.6",
   "language": "sage",
   "name": "sagemath-9.6"
  },
  "language_info": {
   "codemirror_mode": {
    "name": "ipython",
    "version": 3
   },
   "file_extension": ".py",
   "mimetype": "text/x-python",
   "name": "python",
   "nbconvert_exporter": "python",
   "pygments_lexer": "ipython3",
   "version": "3.10.3"
  }
 },
 "nbformat": 4,
 "nbformat_minor": 5
}
